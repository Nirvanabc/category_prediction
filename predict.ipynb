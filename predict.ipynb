{
 "cells": [
  {
   "cell_type": "markdown",
   "metadata": {},
   "source": [
    "### Задание для позиции Data Science\n",
    "Обучите классификатор, предсказывающий категорию объявления на Авито по его заголовку, описанию и цене. Метрика для оценки качества -- accuracy.\n",
    "\n",
    "Категории имеют иерархическую структуру, описанную в файле сategory.csv. Посчитайте также accuracy вашей модели на каждом уровне иерархии."
   ]
  },
  {
   "cell_type": "markdown",
   "metadata": {},
   "source": [
    "### Решение\n",
    "Среди исследованных моделей (SVC с различными ядрами, Naive Bayes, Logistic Regression, LinearSVC) и различной предобработкой данных (удаление стоп-слов, стемминг, лемматизация(слишком долго работает)) наиболее удачной оказалась модель LinearSVC с использованием TfidfVectorizer, без стемминга/лемматизации и без удаления стоп-слов. Также оказалось, что лучше не учитывать цену при построении признакового пространства.\n",
    "\n",
    "Также произведён подбор гиперпараметров выбранной модели при помощи библиотеки hyperopt."
   ]
  },
  {
   "cell_type": "markdown",
   "metadata": {},
   "source": [
    "Файлы scv должны лежать в той же папке, что и notebook"
   ]
  },
  {
   "cell_type": "code",
   "execution_count": 13,
   "metadata": {},
   "outputs": [],
   "source": [
    "import pandas as pd\n",
    "import numpy as np\n",
    "import pymorphy2\n",
    "import re\n",
    "import pickle\n",
    "\n",
    "from sklearn.base import BaseEstimator, TransformerMixin\n",
    "from sklearn.svm import LinearSVC\n",
    "from sklearn.feature_extraction.text import TfidfVectorizer\n",
    "from sklearn.pipeline import Pipeline\n",
    "from hyperopt import hp, fmin, pyll, tpe\n",
    "from sklearn.model_selection import StratifiedKFold\n",
    "from sklearn.metrics import accuracy_score\n",
    "import json\n",
    "from nltk.corpus import stopwords"
   ]
  },
  {
   "cell_type": "markdown",
   "metadata": {},
   "source": [
    "### Определим сетку гиперпараметров\n",
    "\n",
    "Для ускорения процесса обучения оставлены только оптимальные гиперпараметры, для запуска полного перебора можно использовать закомментированные значения параметров"
   ]
  },
  {
   "cell_type": "code",
   "execution_count": 2,
   "metadata": {},
   "outputs": [],
   "source": [
    "# если вдруг захочется попробовать другие виды обработки текста\n",
    "# morph = pymorphy2.MorphAnalyzer()\n",
    "# stop = stopwords.words('russian')\n",
    "\n",
    "MAX_EVALS = 1 # 200\n",
    "N_SPLITS = 3\n",
    "\n",
    "ngram_range_list = [(1,2)] # [(1,1), (1,2), (1,3), (1,4)]\n",
    "C_list = [2.6] # C_list = np.arange(1.1, 3.9, 0.3)\n",
    "loss_list= ['hinge'] # loss_list=['hinge', 'squared_hinge']\n",
    "min_df_list = [1] # min_df_list = [1,2,3]\n",
    "sublinear_tf_list = [True] # sublinear_tf_list = [True, False]\n",
    "\n",
    "TRAIN_SPLIT = 20000\n",
    "TEST_SPLIT = 5000\n",
    "\n",
    "# сетка параметров\n",
    "space_svc = {\n",
    "    'C': hp.choice('C', C_list),\n",
    "    'ngram_range': hp.choice('ngram_range', ngram_range_list),\n",
    "    'min_df': hp.choice('min_df', min_df_list),\n",
    "    'loss': hp.choice('loss', loss_list),\n",
    "    'sublinear_tf': hp.choice('sublinear_tf', sublinear_tf_list),\n",
    "}\n",
    "\n",
    "skf = StratifiedKFold(n_splits=N_SPLITS)"
   ]
  },
  {
   "cell_type": "markdown",
   "metadata": {},
   "source": [
    "Считаем данные"
   ]
  },
  {
   "cell_type": "code",
   "execution_count": 3,
   "metadata": {},
   "outputs": [],
   "source": [
    "data = pd.read_csv('train.csv',',')\n",
    "target = pd.read_csv('category.csv', ',')\n",
    "test = pd.read_csv('test.csv', ',')"
   ]
  },
  {
   "cell_type": "code",
   "execution_count": 7,
   "metadata": {},
   "outputs": [
    {
     "data": {
      "text/html": [
       "<div>\n",
       "<style scoped>\n",
       "    .dataframe tbody tr th:only-of-type {\n",
       "        vertical-align: middle;\n",
       "    }\n",
       "\n",
       "    .dataframe tbody tr th {\n",
       "        vertical-align: top;\n",
       "    }\n",
       "\n",
       "    .dataframe thead th {\n",
       "        text-align: right;\n",
       "    }\n",
       "</style>\n",
       "<table border=\"1\" class=\"dataframe\">\n",
       "  <thead>\n",
       "    <tr style=\"text-align: right;\">\n",
       "      <th></th>\n",
       "      <th>item_id</th>\n",
       "      <th>title</th>\n",
       "      <th>description</th>\n",
       "      <th>price</th>\n",
       "      <th>space</th>\n",
       "      <th>text</th>\n",
       "    </tr>\n",
       "  </thead>\n",
       "  <tbody>\n",
       "    <tr>\n",
       "      <th>0</th>\n",
       "      <td>0</td>\n",
       "      <td>Картина</td>\n",
       "      <td>Гобелен. Размеры 139х84см.</td>\n",
       "      <td>1000.0</td>\n",
       "      <td></td>\n",
       "      <td>картина гобелен размеры 139х84см</td>\n",
       "    </tr>\n",
       "    <tr>\n",
       "      <th>1</th>\n",
       "      <td>1</td>\n",
       "      <td>Стулья из прессованной кожи</td>\n",
       "      <td>Продам недорого 4 стула из светлой прессованно...</td>\n",
       "      <td>1250.0</td>\n",
       "      <td></td>\n",
       "      <td>стулья из прессованной кожи продам недорого 4 ...</td>\n",
       "    </tr>\n",
       "  </tbody>\n",
       "</table>\n",
       "</div>"
      ],
      "text/plain": [
       "   item_id                        title  \\\n",
       "0        0                      Картина   \n",
       "1        1  Стулья из прессованной кожи   \n",
       "\n",
       "                                         description   price space  \\\n",
       "0                         Гобелен. Размеры 139х84см.  1000.0         \n",
       "1  Продам недорого 4 стула из светлой прессованно...  1250.0         \n",
       "\n",
       "                                                text  \n",
       "0                   картина гобелен размеры 139х84см  \n",
       "1  стулья из прессованной кожи продам недорого 4 ...  "
      ]
     },
     "execution_count": 7,
     "metadata": {},
     "output_type": "execute_result"
    }
   ],
   "source": [
    "data.head(n=2)"
   ]
  },
  {
   "cell_type": "code",
   "execution_count": 8,
   "metadata": {},
   "outputs": [
    {
     "data": {
      "text/html": [
       "<div>\n",
       "<style scoped>\n",
       "    .dataframe tbody tr th:only-of-type {\n",
       "        vertical-align: middle;\n",
       "    }\n",
       "\n",
       "    .dataframe tbody tr th {\n",
       "        vertical-align: top;\n",
       "    }\n",
       "\n",
       "    .dataframe thead th {\n",
       "        text-align: right;\n",
       "    }\n",
       "</style>\n",
       "<table border=\"1\" class=\"dataframe\">\n",
       "  <thead>\n",
       "    <tr style=\"text-align: right;\">\n",
       "      <th></th>\n",
       "      <th>category_id</th>\n",
       "      <th>name</th>\n",
       "    </tr>\n",
       "  </thead>\n",
       "  <tbody>\n",
       "    <tr>\n",
       "      <th>0</th>\n",
       "      <td>0</td>\n",
       "      <td>Бытовая электроника|Телефоны|iPhone</td>\n",
       "    </tr>\n",
       "    <tr>\n",
       "      <th>1</th>\n",
       "      <td>1</td>\n",
       "      <td>Бытовая электроника|Ноутбуки</td>\n",
       "    </tr>\n",
       "  </tbody>\n",
       "</table>\n",
       "</div>"
      ],
      "text/plain": [
       "   category_id                                 name\n",
       "0            0  Бытовая электроника|Телефоны|iPhone\n",
       "1            1         Бытовая электроника|Ноутбуки"
      ]
     },
     "execution_count": 8,
     "metadata": {},
     "output_type": "execute_result"
    }
   ],
   "source": [
    "target.head(n=2)"
   ]
  },
  {
   "cell_type": "markdown",
   "metadata": {},
   "source": [
    "И определим функции предобработки данных"
   ]
  },
  {
   "cell_type": "code",
   "execution_count": 4,
   "metadata": {},
   "outputs": [],
   "source": [
    "def Tokenizer(text):\n",
    "    text = text.lower()\n",
    "    text = re.findall(r\"[а-яa-zё0-9]+\", text)\n",
    "    text_new = [i for i in text] #  if not i in stop]\n",
    "    # text_new = [morph.parse(i)[0].normal_form \\ \n",
    "    #             for i in text if not i in stop]\n",
    "    return ' '.join(text_new)\n",
    "\n",
    "def merge_text_columns(data):\n",
    "    '''\n",
    "    соединим title и description\n",
    "    '''\n",
    "    data['space'] = [' ' for _ in range(len(data))]\n",
    "    data['text'] = data[['title', 'space', 'description']].sum(axis=1)\n",
    "    data.text = data.text.map(lambda x: Tokenizer(x))\n"
   ]
  },
  {
   "cell_type": "code",
   "execution_count": 5,
   "metadata": {},
   "outputs": [],
   "source": [
    "merge_text_columns(data)\n",
    "merge_text_columns(test)\n",
    "\n",
    "y = data.category_id\n",
    "data.drop(['category_id'], axis='columns', inplace=True)"
   ]
  },
  {
   "cell_type": "markdown",
   "metadata": {},
   "source": [
    "Определим обучающие и тестовые данные"
   ]
  },
  {
   "cell_type": "code",
   "execution_count": 6,
   "metadata": {},
   "outputs": [],
   "source": [
    "X, y_ = data.text[:TRAIN_SPLIT], y[:TRAIN_SPLIT]\n",
    "\n",
    "X_test, y_test = data.text[TRAIN_SPLIT:TRAIN_SPLIT + TEST_SPLIT], \\\n",
    "                 y[TRAIN_SPLIT:TRAIN_SPLIT + TEST_SPLIT]"
   ]
  },
  {
   "cell_type": "markdown",
   "metadata": {},
   "source": [
    "И модель, для которой будут подбираться гиперпараметры"
   ]
  },
  {
   "cell_type": "code",
   "execution_count": 7,
   "metadata": {},
   "outputs": [],
   "source": [
    "vectorizer = TfidfVectorizer()\n",
    "clf_svc = LinearSVC(class_weight='balanced', max_iter=2000)\n",
    "pipe_svc = Pipeline([('vectorizer', vectorizer), ('svc', clf_svc)])"
   ]
  },
  {
   "cell_type": "markdown",
   "metadata": {},
   "source": [
    "Определим функции для подбора гиперпараметров с помощью кросс-валидации"
   ]
  },
  {
   "cell_type": "code",
   "execution_count": 8,
   "metadata": {},
   "outputs": [],
   "source": [
    "def evaluate_svc(X,\n",
    "                 y_,\n",
    "                 X_test,\n",
    "                 y_test,\n",
    "                 C,\n",
    "                 ngram_range,\n",
    "                 min_df, loss,\n",
    "                 sublinear_tf):\n",
    "    \"\"\"                                                                          \n",
    "    Обучает модель и возвращает accuracy для заданных параметров\n",
    "    используем '-' в возвращаемом значени, т.к. fmin ищет минимум, а accuracy надо максимизировать                                                            \n",
    "    \"\"\"\n",
    "    model = pipe_svc.set_params(vectorizer__ngram_range=ngram_range,\n",
    "                                vectorizer__min_df=min_df,\n",
    "                                vectorizer__sublinear_tf=sublinear_tf,\n",
    "                                svc__C=C,\n",
    "                                svc__loss=loss).fit(X,y_)\n",
    "    y_pred = pipe_svc.predict(X_test)\n",
    "    return - accuracy_score(y_test, y_pred)\n",
    "\n",
    "\n",
    "def objective_svc(args):\n",
    "    \"\"\"\n",
    "    Выполняет кросс-валидацию и возвращает среднее по всем фолдам\n",
    "    \"\"\"\n",
    "    C = args['C']\n",
    "    ngram_range = args['ngram_range']\n",
    "    min_df = args['min_df']\n",
    "    loss = args['loss']\n",
    "    sublinear_tf = args['sublinear_tf']\n",
    "    pred = np.zeros(N_SPLITS)\n",
    "    for i, [train_index, test_index] in enumerate(skf.split(X,y_)):\n",
    "        X_train, X_test = X[train_index], X[test_index]\n",
    "        y_train, y_test = y[train_index], y[test_index]\n",
    "        pred[i] = evaluate_svc(X_train,\n",
    "                               y_train,\n",
    "                               X_test,\n",
    "                               y_test,\n",
    "                               C,\n",
    "                               ngram_range,\n",
    "                               min_df,\n",
    "                               loss,\n",
    "                               sublinear_tf)\n",
    "    predicted = pred.mean()\n",
    "    return predicted\n",
    "\n",
    "\n",
    "def best_hyperparam():\n",
    "    \"\"\"\n",
    "    fmin возаращаем позицию выбранного лучшего параметра в соответствующем списке,\n",
    "    а не его значение\n",
    "    \"\"\"                                                                                     \n",
    "    best_svc = fmin(\n",
    "        fn=objective_svc,\n",
    "        space=space_svc,\n",
    "        algo=tpe.suggest,\n",
    "        max_evals=MAX_EVALS)\n",
    "\n",
    "    return best_svc\n"
   ]
  },
  {
   "cell_type": "code",
   "execution_count": 12,
   "metadata": {},
   "outputs": [],
   "source": [
    "best_svc = best_hyperparam()"
   ]
  },
  {
   "cell_type": "markdown",
   "metadata": {},
   "source": [
    "Заведём функции для работы с моделью и подобранными параметрами (нам нужно сохранить модель, предсказать тестовые данные и вывести accuracy по категориям)"
   ]
  },
  {
   "cell_type": "code",
   "execution_count": 10,
   "metadata": {},
   "outputs": [],
   "source": [
    "def result_model(X,\n",
    "                y_,\n",
    "                X_test,\n",
    "                C,\n",
    "                ngram_range,\n",
    "                min_df,\n",
    "                loss,\n",
    "                sublinear_tf):\n",
    "    '''\n",
    "    обучает модель с заданными параметрами, возвращает предсказания на тестовых данных и обученную модель\n",
    "    '''\n",
    "    model = pipe_svc.set_params(vectorizer__ngram_range=ngram_range,\n",
    "                                vectorizer__min_df=min_df,\n",
    "                                vectorizer__sublinear_tf=sublinear_tf,\n",
    "                                svc__C=C,\n",
    "                                svc__loss=loss).fit(X,y_)\n",
    "    return pipe_svc.predict(X_test), model\n"
   ]
  },
  {
   "cell_type": "markdown",
   "metadata": {},
   "source": [
    "Теперь обучим модель на всех данных и посмотрим на точность"
   ]
  },
  {
   "cell_type": "code",
   "execution_count": 11,
   "metadata": {},
   "outputs": [],
   "source": [
    "shape = data.shape[0]\n",
    "train_shape = int(shape * 0.90)"
   ]
  },
  {
   "cell_type": "code",
   "execution_count": 16,
   "metadata": {},
   "outputs": [
    {
     "name": "stdout",
     "output_type": "stream",
     "text": [
      "best values\n",
      "C = 2.6 ngram_range = (1, 2) min_df = 1 loss = hinge sublinear_tf = True\n"
     ]
    }
   ],
   "source": [
    "X, y_ = data.text[:train_shape], y[:train_shape]\n",
    "X_test, y_test = data.text[train_shape:], y[train_shape:]\n",
    "\n",
    "pred, model = result_model(X, y_,\n",
    "                           X_test,\n",
    "                           C_list[best_svc['C']],\n",
    "                           ngram_range_list[best_svc['ngram_range']],\n",
    "                           min_df_list[best_svc['min_df']],\n",
    "                           loss_list[best_svc['loss']],\n",
    "                           sublinear_tf_list[best_svc['sublinear_tf']])\n",
    "\n",
    "accuracy_score_svc = accuracy_score(pred, y_test)\n",
    "print(\"accuracy score on all data\")\n",
    "print(\"best values\")\n",
    "print(round(accuracy_score_svc, 4))\n",
    "print(\"C =\", round(C_list[best_svc['C']], 4),\n",
    "      \"ngram_range =\",\n",
    "      ngram_range_list[best_svc['ngram_range']],\n",
    "      \"min_df =\",\n",
    "      min_df_list[best_svc['min_df']],\n",
    "      \"loss =\",\n",
    "      loss_list[best_svc['loss']],\n",
    "      \"sublinear_tf =\",\n",
    "      sublinear_tf_list[best_svc['sublinear_tf']])\n"
   ]
  },
  {
   "cell_type": "markdown",
   "metadata": {},
   "source": [
    "Получаем максимальную точность 0.8946 (на всех данных)"
   ]
  },
  {
   "cell_type": "markdown",
   "metadata": {},
   "source": [
    "Сохраняем обученную модель, а также предсказанные тестовые данные"
   ]
  },
  {
   "cell_type": "code",
   "execution_count": 18,
   "metadata": {
    "scrolled": true
   },
   "outputs": [],
   "source": [
    "with open('my_dumped_classifier.pkl', 'wb') as f:\n",
    "    pickle.dump(model, f)\n",
    "\n",
    "pred = model.predict(test.text)\n",
    "result_data = pd.DataFrame({'item_id':test.item_id, 'category_id':pred})\n",
    "result_data.to_csv('out.csv')"
   ]
  },
  {
   "cell_type": "markdown",
   "metadata": {},
   "source": [
    "## Загружаем обученную модель и предсказываем точность на разных уровнях"
   ]
  },
  {
   "cell_type": "code",
   "execution_count": 19,
   "metadata": {},
   "outputs": [],
   "source": [
    "with open('my_dumped_classifier.pkl', 'rb') as f:\n",
    "    clf = pickle.load(f)\n",
    "\n",
    "pred = clf.predict(X_test)"
   ]
  },
  {
   "cell_type": "markdown",
   "metadata": {},
   "source": [
    "Заведём список категорий (их оказалось 5)"
   ]
  },
  {
   "cell_type": "code",
   "execution_count": 20,
   "metadata": {},
   "outputs": [],
   "source": [
    "category_list = {i: set() for i in range(5)}"
   ]
  },
  {
   "cell_type": "markdown",
   "metadata": {},
   "source": [
    "Определим функции для определения точности на разных уровнях"
   ]
  },
  {
   "cell_type": "code",
   "execution_count": 21,
   "metadata": {},
   "outputs": [],
   "source": [
    "def get_nth_category(line, level):\n",
    "    level_list = line.split('|')\n",
    "    if level == 0:\n",
    "        return line\n",
    "    if level - 1 >= len(level_list):\n",
    "         return None\n",
    "    else:\n",
    "        return level_list[level - 1]\n",
    "\n",
    "\n",
    "def find(y, level):\n",
    "    # level != 0, для этого обычный accuracy                                                                                                                  \n",
    "    y_list = y.split(\"|\")\n",
    "    if level > len(y_list): return -1\n",
    "    for category in category_list[level]:\n",
    "        if category == y_list[level - 1]:\n",
    "            return category\n",
    "    return -1\n",
    "\n",
    "\n",
    "def if_in_one_category(y_pred, y_true, level):\n",
    "    y_pred_text = target.iloc[y_pred, 1]\n",
    "    y_true_text = target.iloc[y_true, 1]\n",
    "    true_category = find(y_true_text, level)\n",
    "    if true_category == -1:\n",
    "        return -1\n",
    "    if true_category in y_pred_text:\n",
    "        return True\n",
    "    return False\n",
    "\n",
    "\n",
    "def categorial_accuracy(y_pred, y_true, level):\n",
    "    accuracy = []\n",
    "    if level == 0:\n",
    "        return round(accuracy_score(pred, y_test), 5)\n",
    "    for i in range(len(y_pred)):\n",
    "        in_one_category = if_in_one_category(y_pred[i],\n",
    "                                             y_true.iloc[i],\n",
    "                                             level)\n",
    "        if in_one_category == True:\n",
    "            accuracy.append(1)\n",
    "        elif in_one_category == False:\n",
    "            accuracy.append(0)\n",
    "    return round(np.mean(accuracy), 5)\n"
   ]
  },
  {
   "cell_type": "code",
   "execution_count": 22,
   "metadata": {},
   "outputs": [],
   "source": [
    "for i in range(len(category_list)):\n",
    "    for num, category in enumerate(target.name):\n",
    "        nth_category = get_nth_category(category, i)\n",
    "        if nth_category == None:\n",
    "            continue\n",
    "        category_list[i].add(nth_category)"
   ]
  },
  {
   "cell_type": "code",
   "execution_count": 24,
   "metadata": {},
   "outputs": [],
   "source": [
    "for i in range(5):\n",
    "    print('accuracy on level {} = {:.5f}'.format(\n",
    "        i, categorial_accuracy(pred, y_test, i)))"
   ]
  },
  {
   "cell_type": "markdown",
   "metadata": {},
   "source": [
    "# Результаты\n",
    "\n",
    "Получаем следующие результаты:\n",
    "\n",
    "accuracy on level 0 = 0.89457<br>\n",
    "accuracy on level 1 = 0.96689<br>\n",
    "accuracy on level 2 = 0.95040<br>\n",
    "accuracy on level 3 = 0.89938<br>\n",
    "accuracy on level 4 = 0.92242<br>"
   ]
  },
  {
   "cell_type": "markdown",
   "metadata": {},
   "source": [
    "accuracy на нулевом уровне соответствует обычной точности на всех данных, на 1 уровне -- для категорий верхнего уровня ('Бытовая электроника', 'Для дома и дачи', 'Личные вещи', 'Хобби и отдых')"
   ]
  }
 ],
 "metadata": {
  "kernelspec": {
   "display_name": "Python 3",
   "language": "python",
   "name": "python3"
  },
  "language_info": {
   "codemirror_mode": {
    "name": "ipython",
    "version": 3
   },
   "file_extension": ".py",
   "mimetype": "text/x-python",
   "name": "python",
   "nbconvert_exporter": "python",
   "pygments_lexer": "ipython3",
   "version": "3.7.1"
  }
 },
 "nbformat": 4,
 "nbformat_minor": 2
}
